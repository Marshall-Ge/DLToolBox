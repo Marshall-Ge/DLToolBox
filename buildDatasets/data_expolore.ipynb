{
 "cells": [
  {
   "metadata": {},
   "cell_type": "markdown",
   "source": "This file is used to explore the dataset and test the pipeline, need to be removed in the final version.",
   "id": "fb3c4b65b4dfa81a"
  },
  {
   "metadata": {
    "ExecuteTime": {
     "end_time": "2025-04-06T07:28:59.814182Z",
     "start_time": "2025-04-06T07:28:59.277061Z"
    }
   },
   "cell_type": "code",
   "source": [
    "import kagglehub\n",
    "import os\n",
    "from datasets import load_dataset\n",
    "import datasets\n",
    "import os\n",
    "path = \"/Users/fege/Desktop/project/MultimodalToolBox/data/amazon-reviews-data-2023/data\""
   ],
   "id": "c07a719d6881f73b",
   "outputs": [
    {
     "name": "stderr",
     "output_type": "stream",
     "text": [
      "/Users/fege/Desktop/project/MultimodalToolBox/.venv/lib/python3.11/site-packages/tqdm/auto.py:21: TqdmWarning: IProgress not found. Please update jupyter and ipywidgets. See https://ipywidgets.readthedocs.io/en/stable/user_install.html\n",
      "  from .autonotebook import tqdm as notebook_tqdm\n"
     ]
    }
   ],
   "execution_count": 1
  },
  {
   "metadata": {
    "ExecuteTime": {
     "end_time": "2025-04-05T07:10:19.010662Z",
     "start_time": "2025-04-05T07:10:08.717917Z"
    }
   },
   "cell_type": "code",
   "source": "dataset = load_dataset(\"McAuley-Lab/Amazon-Reviews-2023\", \"raw_meta_All_Beauty\", trust_remote_code=True, cache_dir=path)",
   "id": "a34e333bace8c2fc",
   "outputs": [
    {
     "name": "stderr",
     "output_type": "stream",
     "text": [
      "Generating full split: 100%|██████████| 112590/112590 [00:06<00:00, 17697.92 examples/s]\n"
     ]
    }
   ],
   "execution_count": 4
  },
  {
   "metadata": {
    "ExecuteTime": {
     "end_time": "2025-04-05T07:10:25.522481Z",
     "start_time": "2025-04-05T07:10:25.515625Z"
    }
   },
   "cell_type": "code",
   "source": "dataset['full'][:3]",
   "id": "3623b496f84a3627",
   "outputs": [
    {
     "data": {
      "text/plain": [
       "{'main_category': ['All Beauty', 'All Beauty', 'All Beauty'],\n",
       " 'title': ['Howard LC0008 Leather Conditioner, 8-Ounce (4-Pack)',\n",
       "  'Yes to Tomatoes Detoxifying Charcoal Cleanser (Pack of 2) with Charcoal Powder, Tomato Fruit Extract, and Gingko Biloba Leaf Extract, 5 fl. oz.',\n",
       "  'Eye Patch Black Adult with Tie Band (6 Per Pack)'],\n",
       " 'average_rating': [4.8, 4.5, 4.4],\n",
       " 'rating_number': [10, 3, 26],\n",
       " 'features': [[], [], []],\n",
       " 'description': [[], [], []],\n",
       " 'price': ['None', 'None', 'None'],\n",
       " 'images': [{'hi_res': [None,\n",
       "    'https://m.media-amazon.com/images/I/71i77AuI9xL._SL1500_.jpg'],\n",
       "   'large': ['https://m.media-amazon.com/images/I/41qfjSfqNyL.jpg',\n",
       "    'https://m.media-amazon.com/images/I/41w2yznfuZL.jpg'],\n",
       "   'thumb': ['https://m.media-amazon.com/images/I/41qfjSfqNyL._SS40_.jpg',\n",
       "    'https://m.media-amazon.com/images/I/41w2yznfuZL._SS40_.jpg'],\n",
       "   'variant': ['MAIN', 'PT01']},\n",
       "  {'hi_res': ['https://m.media-amazon.com/images/I/71g1lP0pMbL._SL1500_.jpg',\n",
       "    'https://m.media-amazon.com/images/I/81OqvR94isL._SL1500_.jpg'],\n",
       "   'large': ['https://m.media-amazon.com/images/I/41b+11d5igL.jpg',\n",
       "    'https://m.media-amazon.com/images/I/41j2ocUzCtL.jpg'],\n",
       "   'thumb': ['https://m.media-amazon.com/images/I/41b+11d5igL._SS40_.jpg',\n",
       "    'https://m.media-amazon.com/images/I/41j2ocUzCtL._SS40_.jpg'],\n",
       "   'variant': ['MAIN', 'PT01']},\n",
       "  {'hi_res': [None, None],\n",
       "   'large': ['https://m.media-amazon.com/images/I/31bz+uqzWCL.jpg',\n",
       "    'https://m.media-amazon.com/images/I/31bz+uqzWCL.jpg'],\n",
       "   'thumb': ['https://m.media-amazon.com/images/I/31bz+uqzWCL._SS40_.jpg',\n",
       "    'https://m.media-amazon.com/images/I/31bz+uqzWCL._SS40_.jpg'],\n",
       "   'variant': ['MAIN', 'PT01']}],\n",
       " 'videos': [{'title': [], 'url': [], 'user_id': []},\n",
       "  {'title': [], 'url': [], 'user_id': []},\n",
       "  {'title': [], 'url': [], 'user_id': []}],\n",
       " 'store': ['Howard Products', 'Yes To', 'Levine Health Products'],\n",
       " 'categories': [[], [], []],\n",
       " 'details': ['{\"Package Dimensions\": \"7.1 x 5.5 x 3 inches; 2.38 Pounds\", \"UPC\": \"617390882781\"}',\n",
       "  '{\"Item Form\": \"Powder\", \"Skin Type\": \"Acne Prone\", \"Brand\": \"Yes To\", \"Age Range (Description)\": \"Adult\", \"Unit Count\": \"10 Fl Oz\", \"Is Discontinued By Manufacturer\": \"No\", \"Item model number\": \"SG_B076WQZGPM_US\", \"UPC\": \"653801351125\", \"Manufacturer\": \"Yes to Tomatoes\"}',\n",
       "  '{\"Manufacturer\": \"Levine Health Products\"}'],\n",
       " 'parent_asin': ['B01CUPMQZE', 'B076WQZGPM', 'B000B658RI'],\n",
       " 'bought_together': [None, None, None],\n",
       " 'subtitle': [None, None, None],\n",
       " 'author': [None, None, None]}"
      ]
     },
     "execution_count": 5,
     "metadata": {},
     "output_type": "execute_result"
    }
   ],
   "execution_count": 5
  },
  {
   "metadata": {},
   "cell_type": "code",
   "outputs": [],
   "execution_count": null,
   "source": "dataset = load_dataset()",
   "id": "e89a6317730e35e"
  },
  {
   "metadata": {
    "ExecuteTime": {
     "end_time": "2025-04-05T07:49:45.749534Z",
     "start_time": "2025-04-05T07:49:45.615043Z"
    }
   },
   "cell_type": "code",
   "source": "dataset['full'].save_to_disk(\"/Users/fege/Desktop/project/MultimodalToolBox/data/amazon-back\")",
   "id": "5f1b9ef4c0b04900",
   "outputs": [
    {
     "name": "stderr",
     "output_type": "stream",
     "text": [
      "Saving the dataset (1/1 shards): 100%|██████████| 112590/112590 [00:00<00:00, 920618.31 examples/s]\n"
     ]
    }
   ],
   "execution_count": 7
  },
  {
   "metadata": {
    "ExecuteTime": {
     "end_time": "2025-04-06T11:20:05.395076Z",
     "start_time": "2025-04-06T11:20:05.381775Z"
    }
   },
   "cell_type": "code",
   "source": "ds = datasets.load_from_disk(\"/Users/fege/Desktop/project/MultimodalToolBox/data/amazon-reviews-data-2023/data_origin\")",
   "id": "bde1da610f6a3722",
   "outputs": [],
   "execution_count": 88
  },
  {
   "metadata": {
    "ExecuteTime": {
     "end_time": "2025-04-07T06:34:24.982269Z",
     "start_time": "2025-04-07T06:34:24.978766Z"
    }
   },
   "cell_type": "code",
   "source": "ds[0]",
   "id": "4cfd0cd99ca889ba",
   "outputs": [
    {
     "data": {
      "text/plain": [
       "{'main_category': 'All Beauty',\n",
       " 'title': 'Howard LC0008 Leather Conditioner, 8-Ounce (4-Pack)',\n",
       " 'average_rating': 4.8,\n",
       " 'rating_number': 10,\n",
       " 'features': [],\n",
       " 'description': [],\n",
       " 'price': 'None',\n",
       " 'images': {'hi_res': [None,\n",
       "   'https://m.media-amazon.com/images/I/71i77AuI9xL._SL1500_.jpg'],\n",
       "  'large': ['https://m.media-amazon.com/images/I/41qfjSfqNyL.jpg',\n",
       "   'https://m.media-amazon.com/images/I/41w2yznfuZL.jpg'],\n",
       "  'thumb': ['https://m.media-amazon.com/images/I/41qfjSfqNyL._SS40_.jpg',\n",
       "   'https://m.media-amazon.com/images/I/41w2yznfuZL._SS40_.jpg'],\n",
       "  'variant': ['MAIN', 'PT01']},\n",
       " 'videos': {'title': [], 'url': [], 'user_id': []},\n",
       " 'store': 'Howard Products',\n",
       " 'categories': [],\n",
       " 'details': '{\"Package Dimensions\": \"7.1 x 5.5 x 3 inches; 2.38 Pounds\", \"UPC\": \"617390882781\"}',\n",
       " 'parent_asin': 'B01CUPMQZE',\n",
       " 'bought_together': None,\n",
       " 'subtitle': None,\n",
       " 'author': None}"
      ]
     },
     "execution_count": 152,
     "metadata": {},
     "output_type": "execute_result"
    }
   ],
   "execution_count": 152
  },
  {
   "metadata": {
    "ExecuteTime": {
     "end_time": "2025-04-07T03:19:34.815015Z",
     "start_time": "2025-04-07T03:19:34.726680Z"
    }
   },
   "cell_type": "code",
   "source": [
    "dt = ds.select([1])\n",
    "def get_unique_item_id(dataset):\n",
    "    unique_ids = list(set(ds['parent_asin']))\n",
    "    id_mapping = {asin: idx for idx, asin in enumerate(unique_ids)}\n",
    "    with open('/Users/fege/Desktop/project/MultimodalToolBox/data/amazon-reviews-data-2023/data/parent_asin_mapping.txt', 'w') as f:\n",
    "        for asin, idx in id_mapping.items():\n",
    "            f.write(f\"{asin} {idx}\\n\")\n",
    "    return id_mapping\n",
    "id_mapping = get_unique_item_id(dt)"
   ],
   "id": "22e9e45fdf6fd7df",
   "outputs": [],
   "execution_count": 147
  },
  {
   "metadata": {
    "ExecuteTime": {
     "end_time": "2025-04-07T03:19:36.409631Z",
     "start_time": "2025-04-07T03:19:36.404388Z"
    }
   },
   "cell_type": "code",
   "source": [
    "def transform_dataset(dataset):\n",
    "\n",
    "    def transform_item(item):\n",
    "        item_id = id_mapping[item['parent_asin']]\n",
    "        r_id = []\n",
    "        t = []\n",
    "\n",
    "        if item['title']:\n",
    "            r_id.append('title')\n",
    "            t.append(item['title'])\n",
    "\n",
    "        if item['description'] and item['description'] not in ['None', '']:\n",
    "            r_id.extend(['description'] * len(item['description']))\n",
    "            t.extend(item['description'])\n",
    "\n",
    "        if item['images']['large'] and item['images']['large'] not in ['None', '']:\n",
    "            r_id.extend(['has_image'] * len(item['images']['large']))\n",
    "            t.extend([e.split('/')[-1] for e in item['images']['large']])\n",
    "\n",
    "        return {\n",
    "            'item_id': [item_id] * len(r_id),\n",
    "            'r_id': r_id,\n",
    "            't': t\n",
    "        }\n",
    "\n",
    "    new_ds = {'item_id': [], 'r_id': [], 't': []}\n",
    "    for idx in range(dataset.num_rows):\n",
    "        t = transform_item(dataset[idx])\n",
    "        new_ds['item_id'].extend(t['item_id'])\n",
    "        new_ds['r_id'].extend(t['r_id'])\n",
    "        new_ds['t'].extend(t['t'])\n",
    "    new_ds = datasets.Dataset.from_dict(new_ds)\n",
    "    return new_ds\n"
   ],
   "id": "58fc145267a25cb5",
   "outputs": [],
   "execution_count": 148
  },
  {
   "metadata": {
    "ExecuteTime": {
     "end_time": "2025-04-07T03:19:37.174006Z",
     "start_time": "2025-04-07T03:19:37.167133Z"
    }
   },
   "cell_type": "code",
   "source": "new_ds = transform_dataset(dt)",
   "id": "75f90ef827997c70",
   "outputs": [],
   "execution_count": 149
  },
  {
   "metadata": {
    "ExecuteTime": {
     "end_time": "2025-04-07T03:19:38.398771Z",
     "start_time": "2025-04-07T03:19:38.372336Z"
    }
   },
   "cell_type": "code",
   "source": "new_ds.save_to_disk('/Users/fege/Desktop/project/MultimodalToolBox/data/amazon-reviews-data-2023/data')",
   "id": "1fe054bdd9342003",
   "outputs": [
    {
     "name": "stderr",
     "output_type": "stream",
     "text": [
      "Saving the dataset (1/1 shards): 100%|██████████| 3/3 [00:00<00:00, 388.55 examples/s]\n"
     ]
    }
   ],
   "execution_count": 150
  },
  {
   "metadata": {
    "ExecuteTime": {
     "end_time": "2025-04-07T03:19:39.469381Z",
     "start_time": "2025-04-07T03:19:39.466496Z"
    }
   },
   "cell_type": "code",
   "source": "new_ds",
   "id": "e8bc999e3cc06866",
   "outputs": [
    {
     "data": {
      "text/plain": [
       "Dataset({\n",
       "    features: ['item_id', 'r_id', 't'],\n",
       "    num_rows: 3\n",
       "})"
      ]
     },
     "execution_count": 151,
     "metadata": {},
     "output_type": "execute_result"
    }
   ],
   "execution_count": 151
  },
  {
   "metadata": {
    "ExecuteTime": {
     "end_time": "2025-04-07T03:00:25.281086Z",
     "start_time": "2025-04-07T03:00:25.278009Z"
    }
   },
   "cell_type": "code",
   "source": "",
   "id": "acee9f07b15f0a21",
   "outputs": [],
   "execution_count": 141
  },
  {
   "metadata": {},
   "cell_type": "code",
   "outputs": [],
   "execution_count": null,
   "source": "",
   "id": "ebaebcfab7b9581e"
  }
 ],
 "metadata": {
  "kernelspec": {
   "display_name": "Python 3",
   "language": "python",
   "name": "python3"
  },
  "language_info": {
   "codemirror_mode": {
    "name": "ipython",
    "version": 2
   },
   "file_extension": ".py",
   "mimetype": "text/x-python",
   "name": "python",
   "nbconvert_exporter": "python",
   "pygments_lexer": "ipython2",
   "version": "2.7.6"
  }
 },
 "nbformat": 4,
 "nbformat_minor": 5
}
