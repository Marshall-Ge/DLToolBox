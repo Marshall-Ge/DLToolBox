{
 "cells": [
  {
   "metadata": {
    "ExecuteTime": {
     "end_time": "2025-04-10T08:36:19.069577Z",
     "start_time": "2025-04-10T08:34:16.201001Z"
    }
   },
   "cell_type": "code",
   "source": [
    "from ray import serve\n",
    "from ray.serve import metrics\n",
    "\n",
    "import time\n",
    "import requests\n",
    "\n",
    "\n",
    "@serve.deployment\n",
    "class MyDeployment:\n",
    "    def __init__(self):\n",
    "        self.num_requests = 0\n",
    "        self.my_counter = metrics.Counter(\n",
    "            \"my_counter\",\n",
    "            description=(\"The number of odd-numbered requests to this deployment.\"),\n",
    "            tag_keys=(\"model\",),\n",
    "        )\n",
    "        self.my_counter.set_default_tags({\"model\": \"123\"})\n",
    "\n",
    "    def __call__(self):\n",
    "        self.num_requests += 1\n",
    "        if self.num_requests % 2 == 1:\n",
    "            self.my_counter.inc()\n",
    "\n",
    "\n",
    "my_deployment = MyDeployment.bind()\n",
    "serve.run(my_deployment)\n",
    "\n",
    "while True:\n",
    "    requests.get(\"http://localhost:8000/\")\n",
    "    time.sleep(1)\n"
   ],
   "id": "e0133409949c689",
   "outputs": [
    {
     "name": "stderr",
     "output_type": "stream",
     "text": [
      "2025-04-10 16:34:19,151\tINFO handle.py:126 -- Created DeploymentHandle 'klz0y4pl' for Deployment(name='MyDeployment', app='default').\n",
      "2025-04-10 16:34:19,152\tINFO handle.py:126 -- Created DeploymentHandle 'odq7d3n5' for Deployment(name='MyDeployment', app='default').\n",
      "2025-04-10 16:34:20,162\tINFO handle.py:126 -- Created DeploymentHandle 'xwnkxa5j' for Deployment(name='MyDeployment', app='default').\n",
      "2025-04-10 16:34:20,163\tINFO api.py:549 -- Deployed app 'default' successfully.\n"
     ]
    },
    {
     "ename": "KeyboardInterrupt",
     "evalue": "",
     "output_type": "error",
     "traceback": [
      "\u001B[31m---------------------------------------------------------------------------\u001B[39m",
      "\u001B[31mKeyboardInterrupt\u001B[39m                         Traceback (most recent call last)",
      "\u001B[36mCell\u001B[39m\u001B[36m \u001B[39m\u001B[32mIn[3]\u001B[39m\u001B[32m, line 30\u001B[39m\n\u001B[32m     28\u001B[39m \u001B[38;5;28;01mwhile\u001B[39;00m \u001B[38;5;28;01mTrue\u001B[39;00m:\n\u001B[32m     29\u001B[39m     requests.get(\u001B[33m\"\u001B[39m\u001B[33mhttp://localhost:8000/\u001B[39m\u001B[33m\"\u001B[39m)\n\u001B[32m---> \u001B[39m\u001B[32m30\u001B[39m     time.sleep(\u001B[32m1\u001B[39m)\n",
      "\u001B[31mKeyboardInterrupt\u001B[39m: "
     ]
    }
   ],
   "execution_count": 3
  },
  {
   "metadata": {
    "ExecuteTime": {
     "end_time": "2025-04-10T02:16:30.134235Z",
     "start_time": "2025-04-10T02:16:30.131667Z"
    }
   },
   "cell_type": "code",
   "source": "",
   "id": "bdc6f30d7a1271ae",
   "outputs": [],
   "execution_count": 3
  },
  {
   "metadata": {
    "ExecuteTime": {
     "end_time": "2025-04-10T02:14:23.474716Z",
     "start_time": "2025-04-10T02:14:21.927808Z"
    }
   },
   "cell_type": "code",
   "source": "",
   "id": "52ba2216bf633d7d",
   "outputs": [],
   "execution_count": 5
  },
  {
   "metadata": {
    "ExecuteTime": {
     "end_time": "2025-04-11T08:31:41.013013Z",
     "start_time": "2025-04-11T08:31:40.776325Z"
    }
   },
   "cell_type": "code",
   "source": [
    "from ray.util.metrics import Counter\n",
    "# Note that set_default_tags returns the instance itself.\n",
    "counter = Counter(\"name\", tag_keys=(\"a\",))\n",
    "counter2 = counter.set_default_tags({\"a\": \"b\"})\n",
    "assert counter is counter2\n",
    "counter = Counter(\"name\", tag_keys=(\"a\",)).set_default_tags({\"a\": \"b\"})"
   ],
   "id": "f73807197727a168",
   "outputs": [],
   "execution_count": 1
  },
  {
   "metadata": {},
   "cell_type": "code",
   "outputs": [],
   "execution_count": null,
   "source": "",
   "id": "d1ab7ccfb48edbb1"
  }
 ],
 "metadata": {
  "kernelspec": {
   "display_name": "Python 3",
   "language": "python",
   "name": "python3"
  },
  "language_info": {
   "codemirror_mode": {
    "name": "ipython",
    "version": 2
   },
   "file_extension": ".py",
   "mimetype": "text/x-python",
   "name": "python",
   "nbconvert_exporter": "python",
   "pygments_lexer": "ipython2",
   "version": "2.7.6"
  }
 },
 "nbformat": 4,
 "nbformat_minor": 5
}
