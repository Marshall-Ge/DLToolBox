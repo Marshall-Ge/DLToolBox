{
 "cells": [
  {
   "metadata": {},
   "cell_type": "markdown",
   "source": "This file is used to explore the dataset and test the pipeline, need to be removed in the final version.",
   "id": "fb3c4b65b4dfa81a"
  },
  {
   "metadata": {
    "ExecuteTime": {
     "end_time": "2025-04-01T07:28:37.074914Z",
     "start_time": "2025-04-01T07:28:36.643760Z"
    }
   },
   "cell_type": "code",
   "source": [
    "import kagglehub\n",
    "import os\n",
    "from datasets import load_dataset"
   ],
   "id": "c07a719d6881f73b",
   "outputs": [
    {
     "name": "stderr",
     "output_type": "stream",
     "text": [
      "/Users/fege/Desktop/project/MultimodalToolBox/.venv/lib/python3.11/site-packages/tqdm/auto.py:21: TqdmWarning: IProgress not found. Please update jupyter and ipywidgets. See https://ipywidgets.readthedocs.io/en/stable/user_install.html\n",
      "  from .autonotebook import tqdm as notebook_tqdm\n"
     ]
    }
   ],
   "execution_count": 1
  },
  {
   "metadata": {
    "ExecuteTime": {
     "end_time": "2025-04-01T07:29:02.754998Z",
     "start_time": "2025-04-01T07:28:58.913414Z"
    }
   },
   "cell_type": "code",
   "source": "dataset = load_dataset(\"McAuley-Lab/Amazon-Reviews-2023\", \"raw_review_All_Beauty\", trust_remote_code=True)",
   "id": "a34e333bace8c2fc",
   "outputs": [],
   "execution_count": 2
  },
  {
   "metadata": {
    "ExecuteTime": {
     "end_time": "2025-04-01T07:29:55.950014Z",
     "start_time": "2025-04-01T07:29:55.945474Z"
    }
   },
   "cell_type": "code",
   "source": "dataset['full'][:10]",
   "id": "3623b496f84a3627",
   "outputs": [
    {
     "data": {
      "text/plain": [
       "{'rating': [5.0, 4.0, 5.0, 1.0, 5.0, 4.0, 5.0, 3.0, 5.0, 5.0],\n",
       " 'title': ['Such a lovely scent but not overpowering.',\n",
       "  'Works great but smells a little weird.',\n",
       "  'Yes!',\n",
       "  'Synthetic feeling',\n",
       "  'A+',\n",
       "  'Pretty Color',\n",
       "  'Handy',\n",
       "  'Meh',\n",
       "  'Great for at home use and so easy to use!',\n",
       "  'Nice shampoo for the money'],\n",
       " 'text': [\"This spray is really nice. It smells really good, goes on really fine, and does the trick. I will say it feels like you need a lot of it though to get the texture I want. I have a lot of hair, medium thickness. I am comparing to other brands with yucky chemicals so I'm gonna stick with this. Try it!\",\n",
       "  'This product does what I need it to do, I just wish it was odorless or had a soft coconut smell. Having my head smell like an orange coffee is offputting. (granted, I did know the smell was described but I was hoping it would be light)',\n",
       "  'Smells good, feels great!',\n",
       "  'Felt synthetic',\n",
       "  'Love it',\n",
       "  'The polish was quiet thick and did not apply smoothly. I let dry overnight before adding a second coat since it was so thick.',\n",
       "  'Great for many tasks.  I purchased these for makeup removal.  No makeup on your washcloths.  Disposable, so great for travel.  Soft.  Absorbant.',\n",
       "  'These were lightweight and soft but much too small for my liking. I would have preferred two of these together to make one loc. For that reason I will not be repurchasing.',\n",
       "  'This is perfect for my between salon visits. I have been using this now twice a week for over a month and I absolutely love it! My skin looks amazing and feels super smooth and silky. This is also super easy to use (just follow instructions). I can see already that I will begin expanding the time between visits which will definitely help me save money in the long run. Highly recommend!',\n",
       "  'I get Keratin treatments at the salon at least 3-4 times a year (would do it more often if I could afford it). I am always in the market to use products that can help extend my salon visits. This Keratin shampoo is really nice. It is sulfate free (which is the first thing I look for ) and makes my hair feel silky smooth and soft. I highly recommend for anyone who wants to improve the texture and appearance of your hair. I really like the fragrance, too.'],\n",
       " 'images': [[],\n",
       "  [],\n",
       "  [],\n",
       "  [],\n",
       "  [],\n",
       "  [{'attachment_type': 'IMAGE',\n",
       "    'large_image_url': 'https://images-na.ssl-images-amazon.com/images/I/71e9Noi7dJL._SL1600_.jpg',\n",
       "    'medium_image_url': 'https://images-na.ssl-images-amazon.com/images/I/71e9Noi7dJL._SL800_.jpg',\n",
       "    'small_image_url': 'https://images-na.ssl-images-amazon.com/images/I/71e9Noi7dJL._SL256_.jpg'}],\n",
       "  [],\n",
       "  [{'attachment_type': 'IMAGE',\n",
       "    'large_image_url': 'https://m.media-amazon.com/images/I/81FN4c0VHzL._SL1600_.jpg',\n",
       "    'medium_image_url': 'https://m.media-amazon.com/images/I/81FN4c0VHzL._SL800_.jpg',\n",
       "    'small_image_url': 'https://m.media-amazon.com/images/I/81FN4c0VHzL._SL256_.jpg'}],\n",
       "  [],\n",
       "  []],\n",
       " 'asin': ['B00YQ6X8EO',\n",
       "  'B081TJ8YS3',\n",
       "  'B07PNNCSP9',\n",
       "  'B09JS339BZ',\n",
       "  'B08BZ63GMJ',\n",
       "  'B00R8DXL44',\n",
       "  'B099DRHW5V',\n",
       "  'B088SZDGXG',\n",
       "  'B08P2DZB4X',\n",
       "  'B086QY6T7N'],\n",
       " 'parent_asin': ['B00YQ6X8EO',\n",
       "  'B081TJ8YS3',\n",
       "  'B097R46CSY',\n",
       "  'B09JS339BZ',\n",
       "  'B08BZ63GMJ',\n",
       "  'B00R8DXL44',\n",
       "  'B099DRHW5V',\n",
       "  'B08BBQ29N5',\n",
       "  'B08P2DZB4X',\n",
       "  'B086QY6T7N'],\n",
       " 'user_id': ['AGKHLEW2SOWHNMFQIJGBECAF7INQ',\n",
       "  'AGKHLEW2SOWHNMFQIJGBECAF7INQ',\n",
       "  'AE74DYR3QUGVPZJ3P7RFWBGIX7XQ',\n",
       "  'AFQLNQNQYFWQZPJQZS6V3NZU4QBQ',\n",
       "  'AFQLNQNQYFWQZPJQZS6V3NZU4QBQ',\n",
       "  'AGMJ3EMDVL6OWBJF7CA5RGJLXN5A',\n",
       "  'AHREXOGQPZDA6354MHH4ETSF3MCQ',\n",
       "  'AEYORY2AVPMCPDV57CE337YU5LXA',\n",
       "  'AFSKPY37N3C43SOI5IEXEK5JSIYA',\n",
       "  'AFSKPY37N3C43SOI5IEXEK5JSIYA'],\n",
       " 'timestamp': [1588687728923,\n",
       "  1588615855070,\n",
       "  1589665266052,\n",
       "  1643393630220,\n",
       "  1609322563534,\n",
       "  1598567408138,\n",
       "  1631885519443,\n",
       "  1634275259292,\n",
       "  1627391044559,\n",
       "  1626614511145],\n",
       " 'helpful_vote': [0, 1, 2, 0, 0, 0, 0, 0, 0, 0],\n",
       " 'verified_purchase': [True,\n",
       "  True,\n",
       "  True,\n",
       "  True,\n",
       "  True,\n",
       "  True,\n",
       "  True,\n",
       "  True,\n",
       "  False,\n",
       "  False]}"
      ]
     },
     "execution_count": 4,
     "metadata": {},
     "output_type": "execute_result"
    }
   ],
   "execution_count": 4
  },
  {
   "metadata": {},
   "cell_type": "code",
   "outputs": [],
   "execution_count": null,
   "source": "",
   "id": "e89a6317730e35e"
  }
 ],
 "metadata": {
  "kernelspec": {
   "display_name": "Python 3",
   "language": "python",
   "name": "python3"
  },
  "language_info": {
   "codemirror_mode": {
    "name": "ipython",
    "version": 2
   },
   "file_extension": ".py",
   "mimetype": "text/x-python",
   "name": "python",
   "nbconvert_exporter": "python",
   "pygments_lexer": "ipython2",
   "version": "2.7.6"
  }
 },
 "nbformat": 4,
 "nbformat_minor": 5
}
