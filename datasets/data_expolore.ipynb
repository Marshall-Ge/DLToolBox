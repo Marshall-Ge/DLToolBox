{
 "cells": [
  {
   "metadata": {},
   "cell_type": "markdown",
   "source": "This file is used to explore the dataset and test the pipeline, need to be removed in the final version.",
   "id": "fb3c4b65b4dfa81a"
  },
  {
   "metadata": {
    "ExecuteTime": {
     "end_time": "2025-04-05T07:10:07.674468Z",
     "start_time": "2025-04-05T07:10:07.671931Z"
    }
   },
   "cell_type": "code",
   "source": [
    "import kagglehub\n",
    "import os\n",
    "from datasets import load_dataset\n",
    "import os\n",
    "path = \"/Users/fege/Desktop/project/MultimodalToolBox/data/amazon-reviews-data-2023/data\""
   ],
   "id": "c07a719d6881f73b",
   "outputs": [],
   "execution_count": 3
  },
  {
   "metadata": {
    "ExecuteTime": {
     "end_time": "2025-04-05T07:10:19.010662Z",
     "start_time": "2025-04-05T07:10:08.717917Z"
    }
   },
   "cell_type": "code",
   "source": "dataset = load_dataset(\"McAuley-Lab/Amazon-Reviews-2023\", \"raw_meta_All_Beauty\", trust_remote_code=True, cache_dir=path)",
   "id": "a34e333bace8c2fc",
   "outputs": [
    {
     "name": "stderr",
     "output_type": "stream",
     "text": [
      "Generating full split: 100%|██████████| 112590/112590 [00:06<00:00, 17697.92 examples/s]\n"
     ]
    }
   ],
   "execution_count": 4
  },
  {
   "metadata": {
    "ExecuteTime": {
     "end_time": "2025-04-05T07:10:25.522481Z",
     "start_time": "2025-04-05T07:10:25.515625Z"
    }
   },
   "cell_type": "code",
   "source": "dataset['full'][:3]",
   "id": "3623b496f84a3627",
   "outputs": [
    {
     "data": {
      "text/plain": [
       "{'main_category': ['All Beauty', 'All Beauty', 'All Beauty'],\n",
       " 'title': ['Howard LC0008 Leather Conditioner, 8-Ounce (4-Pack)',\n",
       "  'Yes to Tomatoes Detoxifying Charcoal Cleanser (Pack of 2) with Charcoal Powder, Tomato Fruit Extract, and Gingko Biloba Leaf Extract, 5 fl. oz.',\n",
       "  'Eye Patch Black Adult with Tie Band (6 Per Pack)'],\n",
       " 'average_rating': [4.8, 4.5, 4.4],\n",
       " 'rating_number': [10, 3, 26],\n",
       " 'features': [[], [], []],\n",
       " 'description': [[], [], []],\n",
       " 'price': ['None', 'None', 'None'],\n",
       " 'images': [{'hi_res': [None,\n",
       "    'https://m.media-amazon.com/images/I/71i77AuI9xL._SL1500_.jpg'],\n",
       "   'large': ['https://m.media-amazon.com/images/I/41qfjSfqNyL.jpg',\n",
       "    'https://m.media-amazon.com/images/I/41w2yznfuZL.jpg'],\n",
       "   'thumb': ['https://m.media-amazon.com/images/I/41qfjSfqNyL._SS40_.jpg',\n",
       "    'https://m.media-amazon.com/images/I/41w2yznfuZL._SS40_.jpg'],\n",
       "   'variant': ['MAIN', 'PT01']},\n",
       "  {'hi_res': ['https://m.media-amazon.com/images/I/71g1lP0pMbL._SL1500_.jpg',\n",
       "    'https://m.media-amazon.com/images/I/81OqvR94isL._SL1500_.jpg'],\n",
       "   'large': ['https://m.media-amazon.com/images/I/41b+11d5igL.jpg',\n",
       "    'https://m.media-amazon.com/images/I/41j2ocUzCtL.jpg'],\n",
       "   'thumb': ['https://m.media-amazon.com/images/I/41b+11d5igL._SS40_.jpg',\n",
       "    'https://m.media-amazon.com/images/I/41j2ocUzCtL._SS40_.jpg'],\n",
       "   'variant': ['MAIN', 'PT01']},\n",
       "  {'hi_res': [None, None],\n",
       "   'large': ['https://m.media-amazon.com/images/I/31bz+uqzWCL.jpg',\n",
       "    'https://m.media-amazon.com/images/I/31bz+uqzWCL.jpg'],\n",
       "   'thumb': ['https://m.media-amazon.com/images/I/31bz+uqzWCL._SS40_.jpg',\n",
       "    'https://m.media-amazon.com/images/I/31bz+uqzWCL._SS40_.jpg'],\n",
       "   'variant': ['MAIN', 'PT01']}],\n",
       " 'videos': [{'title': [], 'url': [], 'user_id': []},\n",
       "  {'title': [], 'url': [], 'user_id': []},\n",
       "  {'title': [], 'url': [], 'user_id': []}],\n",
       " 'store': ['Howard Products', 'Yes To', 'Levine Health Products'],\n",
       " 'categories': [[], [], []],\n",
       " 'details': ['{\"Package Dimensions\": \"7.1 x 5.5 x 3 inches; 2.38 Pounds\", \"UPC\": \"617390882781\"}',\n",
       "  '{\"Item Form\": \"Powder\", \"Skin Type\": \"Acne Prone\", \"Brand\": \"Yes To\", \"Age Range (Description)\": \"Adult\", \"Unit Count\": \"10 Fl Oz\", \"Is Discontinued By Manufacturer\": \"No\", \"Item model number\": \"SG_B076WQZGPM_US\", \"UPC\": \"653801351125\", \"Manufacturer\": \"Yes to Tomatoes\"}',\n",
       "  '{\"Manufacturer\": \"Levine Health Products\"}'],\n",
       " 'parent_asin': ['B01CUPMQZE', 'B076WQZGPM', 'B000B658RI'],\n",
       " 'bought_together': [None, None, None],\n",
       " 'subtitle': [None, None, None],\n",
       " 'author': [None, None, None]}"
      ]
     },
     "execution_count": 5,
     "metadata": {},
     "output_type": "execute_result"
    }
   ],
   "execution_count": 5
  },
  {
   "metadata": {},
   "cell_type": "code",
   "outputs": [],
   "execution_count": null,
   "source": "dataset = load_dataset()",
   "id": "e89a6317730e35e"
  }
 ],
 "metadata": {
  "kernelspec": {
   "display_name": "Python 3",
   "language": "python",
   "name": "python3"
  },
  "language_info": {
   "codemirror_mode": {
    "name": "ipython",
    "version": 2
   },
   "file_extension": ".py",
   "mimetype": "text/x-python",
   "name": "python",
   "nbconvert_exporter": "python",
   "pygments_lexer": "ipython2",
   "version": "2.7.6"
  }
 },
 "nbformat": 4,
 "nbformat_minor": 5
}
