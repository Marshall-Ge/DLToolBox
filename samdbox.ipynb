{
 "cells": [
  {
   "metadata": {
    "ExecuteTime": {
     "end_time": "2025-03-29T13:06:40.809565Z",
     "start_time": "2025-03-29T13:03:55.012713Z"
    }
   },
   "cell_type": "code",
   "source": [
    "import torch\n",
    "import torch.nn as nn\n",
    "import torch.nn.functional as F\n",
    "import math\n",
    "from einops import rearrange, repeat\n",
    "from torch.nn import MultiheadAttention\n",
    "from models import *\n",
    "device = torch.device('cuda' if torch.cuda.is_available() else 'cpu')"
   ],
   "id": "461fc3f5eee4b24d",
   "outputs": [
    {
     "name": "stderr",
     "output_type": "stream",
     "text": [
      "E:\\PROJECTS\\MultimodalToolBox\\.venv\\Lib\\site-packages\\tqdm\\auto.py:21: TqdmWarning: IProgress not found. Please update jupyter and ipywidgets. See https://ipywidgets.readthedocs.io/en/stable/user_install.html\n",
      "  from .autonotebook import tqdm as notebook_tqdm\n",
      "E:\\PROJECTS\\MultimodalToolBox\\.venv\\Lib\\site-packages\\timm\\models\\layers\\__init__.py:48: FutureWarning: Importing from timm.models.layers is deprecated, please import via timm.layers\n",
      "  warnings.warn(f\"Importing from {__name__} is deprecated, please import via timm.layers\", FutureWarning)\n",
      "E:\\PROJECTS\\MultimodalToolBox\\.venv\\Lib\\site-packages\\timm\\models\\hub.py:4: FutureWarning: Importing from timm.models.hub is deprecated, please import via timm.models\n",
      "  warnings.warn(f\"Importing from {__name__} is deprecated, please import via timm.models\", FutureWarning)\n"
     ]
    }
   ],
   "execution_count": 1
  },
  {
   "metadata": {
    "ExecuteTime": {
     "end_time": "2025-03-29T13:07:02.285777Z",
     "start_time": "2025-03-29T13:07:01.070025Z"
    }
   },
   "cell_type": "code",
   "source": [
    "# Mock data\n",
    "batch_size = 3\n",
    "seq_len = 5\n",
    "emb_dim = 64\n",
    "vocab_size = 301\n",
    "input_ids = torch.tensor([[100, 200, 300, 300, 0],\n",
    "             [22, 33, 44, 0, 0],\n",
    "             [66, 55, 66, 30, 0]], dtype=torch.long).to(device)\n",
    "pad_mask = input_ids.eq(0)\n",
    "emb_layer = nn.Embedding(vocab_size, emb_dim).to(device)\n",
    "inputs = emb_layer(input_ids)\n",
    "\n",
    "input_img = torch.randn((3, 3, 224, 224)).to(device)\n",
    "pad_mask = pad_mask.unsqueeze(1).expand(batch_size, 224*224, seq_len)"
   ],
   "id": "9e3c3847d11cc2b7",
   "outputs": [],
   "execution_count": 2
  },
  {
   "metadata": {},
   "cell_type": "markdown",
   "source": "## Cross-Attention",
   "id": "5ad764c3e0cec917"
  },
  {
   "metadata": {
    "ExecuteTime": {
     "end_time": "2025-03-29T13:07:04.858945Z",
     "start_time": "2025-03-29T13:07:03.851668Z"
    }
   },
   "cell_type": "code",
   "source": [
    "cross_att = CrossAttention(emb_dim, in_channel=3, att_dropout=0.1).to(device)\n",
    "outputs, att_weights = cross_att(input_img, inputs, pad_mask)\n",
    "print(outputs.shape)\n",
    "print(att_weights.shape)"
   ],
   "id": "8ab0b3e7ea9f2b13",
   "outputs": [
    {
     "name": "stdout",
     "output_type": "stream",
     "text": [
      "torch.Size([3, 3, 224, 224])\n",
      "torch.Size([3, 50176, 5])\n"
     ]
    }
   ],
   "execution_count": 3
  },
  {
   "metadata": {},
   "cell_type": "markdown",
   "source": "## Cross-MultiHead-Attention",
   "id": "c6782c8f0e0e8e62"
  },
  {
   "metadata": {
    "ExecuteTime": {
     "end_time": "2025-03-29T13:07:05.842557Z",
     "start_time": "2025-03-29T13:07:05.748445Z"
    }
   },
   "cell_type": "code",
   "source": [
    "cross_multi_att = CrossMultiAttention(emb_dim, in_channel=3, num_heads=8, att_dropout=0.1).to(device)\n",
    "outputs, att_weights = cross_multi_att(input_img, inputs, pad_mask)\n",
    "print(outputs.shape)\n",
    "print(att_weights.shape)"
   ],
   "id": "f6d02f0501bd991d",
   "outputs": [
    {
     "name": "stdout",
     "output_type": "stream",
     "text": [
      "torch.Size([3, 3, 224, 224])\n",
      "torch.Size([3, 8, 50176, 5])\n"
     ]
    }
   ],
   "execution_count": 4
  },
  {
   "metadata": {},
   "cell_type": "markdown",
   "source": "## VisionTransformer",
   "id": "a1783b38aa641621"
  },
  {
   "metadata": {
    "ExecuteTime": {
     "end_time": "2025-03-29T13:07:09.320738Z",
     "start_time": "2025-03-29T13:07:07.051206Z"
    }
   },
   "cell_type": "code",
   "source": [
    "vit = VisionTransformer(drop_rate=0.1, attn_drop_rate=0.1, drop_path_rate=0.1).to(device)\n",
    "outputs = vit(input_img)\n",
    "print(f\"outputs: {outputs.shape}\")"
   ],
   "id": "4e0a90a60ab5f171",
   "outputs": [
    {
     "name": "stdout",
     "output_type": "stream",
     "text": [
      "outputs: torch.Size([3, 197, 768])\n"
     ]
    }
   ],
   "execution_count": 5
  },
  {
   "metadata": {},
   "cell_type": "code",
   "outputs": [],
   "execution_count": null,
   "source": "",
   "id": "8914929251412c69"
  }
 ],
 "metadata": {
  "kernelspec": {
   "display_name": "Python 3 (ipykernel)",
   "language": "python",
   "name": "python3"
  },
  "language_info": {
   "codemirror_mode": {
    "name": "ipython",
    "version": 2
   },
   "file_extension": ".py",
   "mimetype": "text/x-python",
   "name": "python",
   "nbconvert_exporter": "python",
   "pygments_lexer": "ipython2",
   "version": "2.7.6"
  }
 },
 "nbformat": 4,
 "nbformat_minor": 5
}
