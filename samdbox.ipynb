{
 "cells": [
  {
   "metadata": {
    "ExecuteTime": {
     "end_time": "2025-03-23T11:26:23.214105Z",
     "start_time": "2025-03-23T11:26:08.073636Z"
    }
   },
   "cell_type": "code",
   "source": [
    "import torch\n",
    "import torch.nn as nn\n",
    "import torch.nn.functional as F\n",
    "import math\n",
    "from einops import rearrange, repeat\n",
    "from torch.nn import MultiheadAttention\n",
    "from models import *\n",
    "device = torch.device('cuda' if torch.cuda.is_available() else 'cpu')"
   ],
   "id": "461fc3f5eee4b24d",
   "outputs": [],
   "execution_count": 1
  },
  {
   "metadata": {
    "ExecuteTime": {
     "end_time": "2025-03-23T11:26:23.457962Z",
     "start_time": "2025-03-23T11:26:23.219125Z"
    }
   },
   "cell_type": "code",
   "source": [
    "# Mock data\n",
    "batch_size = 3\n",
    "seq_len = 5\n",
    "emb_dim = 64\n",
    "vocab_size = 301\n",
    "input_ids = torch.tensor([[100, 200, 300, 300, 0],\n",
    "             [22, 33, 44, 0, 0],\n",
    "             [66, 55, 66, 30, 0]], dtype=torch.long).to(device)\n",
    "pad_mask = input_ids.eq(0)\n",
    "emb_layer = nn.Embedding(vocab_size, emb_dim).to(device)\n",
    "inputs = emb_layer(input_ids)\n",
    "\n",
    "input_img = torch.randn((3, 3, 512, 512)).to(device)\n",
    "pad_mask = pad_mask.unsqueeze(1).expand(batch_size, 512*512, seq_len)"
   ],
   "id": "9e3c3847d11cc2b7",
   "outputs": [],
   "execution_count": 2
  },
  {
   "metadata": {},
   "cell_type": "markdown",
   "source": "## Cross-Attention",
   "id": "5ad764c3e0cec917"
  },
  {
   "metadata": {
    "ExecuteTime": {
     "end_time": "2025-03-23T11:26:38.434783Z",
     "start_time": "2025-03-23T11:26:37.790777Z"
    }
   },
   "cell_type": "code",
   "source": [
    "cross_att = CrossAttention(emb_dim, in_channel=3, att_dropout=0.1).to(device)\n",
    "outputs, att_weights = cross_att(input_img, inputs, pad_mask)\n",
    "print(outputs.shape)\n",
    "print(att_weights.shape)"
   ],
   "id": "8ab0b3e7ea9f2b13",
   "outputs": [
    {
     "name": "stdout",
     "output_type": "stream",
     "text": [
      "torch.Size([3, 3, 512, 512])\n",
      "torch.Size([3, 262144, 5])\n"
     ]
    }
   ],
   "execution_count": 3
  },
  {
   "metadata": {},
   "cell_type": "markdown",
   "source": "## Cross-MultiHead-Attention",
   "id": "c6782c8f0e0e8e62"
  },
  {
   "metadata": {
    "ExecuteTime": {
     "end_time": "2025-03-23T11:26:39.424895Z",
     "start_time": "2025-03-23T11:26:39.382094Z"
    }
   },
   "cell_type": "code",
   "source": [
    "cross_multi_att = CrossMultiAttention(emb_dim, in_channel=3, num_heads=8, att_dropout=0.1).to(device)\n",
    "outputs, att_weights = cross_multi_att(input_img, inputs, pad_mask)\n",
    "print(outputs.shape)\n",
    "print(att_weights.shape)"
   ],
   "id": "f6d02f0501bd991d",
   "outputs": [
    {
     "name": "stdout",
     "output_type": "stream",
     "text": [
      "torch.Size([3, 3, 512, 512])\n",
      "torch.Size([3, 8, 262144, 5])\n"
     ]
    }
   ],
   "execution_count": 4
  },
  {
   "metadata": {},
   "cell_type": "code",
   "outputs": [],
   "execution_count": null,
   "source": "",
   "id": "4e0a90a60ab5f171"
  }
 ],
 "metadata": {
  "kernelspec": {
   "display_name": "Python 3 (ipykernel)",
   "language": "python",
   "name": "python3"
  },
  "language_info": {
   "codemirror_mode": {
    "name": "ipython",
    "version": 2
   },
   "file_extension": ".py",
   "mimetype": "text/x-python",
   "name": "python",
   "nbconvert_exporter": "python",
   "pygments_lexer": "ipython2",
   "version": "2.7.6"
  }
 },
 "nbformat": 4,
 "nbformat_minor": 5
}
