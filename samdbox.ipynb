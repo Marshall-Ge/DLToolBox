{
 "cells": [
  {
   "cell_type": "code",
   "execution_count": 9,
   "id": "initial_id",
   "metadata": {
    "collapsed": true,
    "ExecuteTime": {
     "end_time": "2025-03-13T13:50:04.662802500Z",
     "start_time": "2025-03-13T13:50:04.644349700Z"
    }
   },
   "outputs": [],
   "source": [
    "import pandas as pd"
   ]
  },
  {
   "cell_type": "code",
   "outputs": [],
   "source": [
    "path = 'data/CC/Validation_GCC-1.1.0-Validation.tsv'\n",
    "df = pd.read_csv(path, sep='\\t', names=['text', 'image'])"
   ],
   "metadata": {
    "collapsed": false,
    "ExecuteTime": {
     "end_time": "2025-03-13T13:50:04.725321100Z",
     "start_time": "2025-03-13T13:50:04.666801500Z"
    }
   },
   "id": "f24bc14927cbd1fb",
   "execution_count": 10
  },
  {
   "cell_type": "code",
   "outputs": [],
   "source": [
    "data = df.head(5)"
   ],
   "metadata": {
    "collapsed": false,
    "ExecuteTime": {
     "end_time": "2025-03-13T13:50:04.735035700Z",
     "start_time": "2025-03-13T13:50:04.727321700Z"
    }
   },
   "id": "dccf4253cf193c3c",
   "execution_count": 11
  },
  {
   "cell_type": "code",
   "outputs": [
    {
     "data": {
      "text/plain": "15840"
     },
     "execution_count": 12,
     "metadata": {},
     "output_type": "execute_result"
    }
   ],
   "source": [
    "len(df)"
   ],
   "metadata": {
    "collapsed": false,
    "ExecuteTime": {
     "end_time": "2025-03-13T13:50:04.776130500Z",
     "start_time": "2025-03-13T13:50:04.735035700Z"
    }
   },
   "id": "975b9d4be4640ab7",
   "execution_count": 12
  },
  {
   "cell_type": "code",
   "outputs": [
    {
     "data": {
      "text/plain": "                                                text  \\\n0      author : a life in photography -- in pictures   \n1            an angler fishes river on a snowy day .   \n2  photograph of the sign being repaired by brave...   \n3  the player staring intently at a computer scre...   \n4  globes : the green 3d person carrying in hands...   \n\n                                               image  \n0  https://i.pinimg.com/736x/66/01/6c/66016c3ba27...  \n1  http://www.standard.net/image/2015/02/04/800x_...  \n2  http://indianapolis-photos.funcityfinder.com/f...  \n3  http://www.abc.net.au/news/image/9066492-3x2-7...  \n4  https://www.featurepics.com/StockImage/2009031...  ",
      "text/html": "<div>\n<style scoped>\n    .dataframe tbody tr th:only-of-type {\n        vertical-align: middle;\n    }\n\n    .dataframe tbody tr th {\n        vertical-align: top;\n    }\n\n    .dataframe thead th {\n        text-align: right;\n    }\n</style>\n<table border=\"1\" class=\"dataframe\">\n  <thead>\n    <tr style=\"text-align: right;\">\n      <th></th>\n      <th>text</th>\n      <th>image</th>\n    </tr>\n  </thead>\n  <tbody>\n    <tr>\n      <th>0</th>\n      <td>author : a life in photography -- in pictures</td>\n      <td>https://i.pinimg.com/736x/66/01/6c/66016c3ba27...</td>\n    </tr>\n    <tr>\n      <th>1</th>\n      <td>an angler fishes river on a snowy day .</td>\n      <td>http://www.standard.net/image/2015/02/04/800x_...</td>\n    </tr>\n    <tr>\n      <th>2</th>\n      <td>photograph of the sign being repaired by brave...</td>\n      <td>http://indianapolis-photos.funcityfinder.com/f...</td>\n    </tr>\n    <tr>\n      <th>3</th>\n      <td>the player staring intently at a computer scre...</td>\n      <td>http://www.abc.net.au/news/image/9066492-3x2-7...</td>\n    </tr>\n    <tr>\n      <th>4</th>\n      <td>globes : the green 3d person carrying in hands...</td>\n      <td>https://www.featurepics.com/StockImage/2009031...</td>\n    </tr>\n  </tbody>\n</table>\n</div>"
     },
     "execution_count": 13,
     "metadata": {},
     "output_type": "execute_result"
    }
   ],
   "source": [
    "data"
   ],
   "metadata": {
    "collapsed": false,
    "ExecuteTime": {
     "end_time": "2025-03-13T13:50:20.717362200Z",
     "start_time": "2025-03-13T13:50:20.694063600Z"
    }
   },
   "id": "8688219c9b0672dc",
   "execution_count": 13
  },
  {
   "cell_type": "code",
   "outputs": [],
   "source": [
    "# 下载图片到本地路径 data/CC/images/validation\n",
    "# 并在df加上一列相对路径 image_path\n",
    "import os\n",
    "import requests\n",
    "from tqdm import tqdm\n",
    "def download_image(url, path):\n",
    "    if not os.path.exists(path):\n",
    "        os.makedirs(path)\n",
    "    filename = url.split('/')[-1]\n",
    "    filepath = os.path.join(path, filename)\n",
    "    if not os.path.exists(filepath):\n",
    "        r = requests.get(url, stream=True)\n",
    "        with open(filepath, 'wb') as f:\n",
    "            for chunk in tqdm(r.iter_content(chunk_size=1024)):\n",
    "                if chunk:\n",
    "                    f.write(chunk)\n",
    "    return filepath"
   ],
   "metadata": {
    "collapsed": false
   },
   "id": "1179d897fd679f65"
  },
  {
   "cell_type": "code",
   "outputs": [],
   "source": [
    "\n"
   ],
   "metadata": {
    "collapsed": false
   },
   "id": "d1ee237b13fd2dfe"
  }
 ],
 "metadata": {
  "kernelspec": {
   "display_name": "Python 3",
   "language": "python",
   "name": "python3"
  },
  "language_info": {
   "codemirror_mode": {
    "name": "ipython",
    "version": 2
   },
   "file_extension": ".py",
   "mimetype": "text/x-python",
   "name": "python",
   "nbconvert_exporter": "python",
   "pygments_lexer": "ipython2",
   "version": "2.7.6"
  }
 },
 "nbformat": 4,
 "nbformat_minor": 5
}
